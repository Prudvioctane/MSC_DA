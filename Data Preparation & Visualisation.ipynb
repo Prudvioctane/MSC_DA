{
 "cells": [
  {
   "cell_type": "code",
   "execution_count": 2,
   "id": "c5074b33",
   "metadata": {},
   "outputs": [],
   "source": [
    "#import all needed libraries\n",
    "import numpy as np\n",
    "import pandas as pd\n",
    "import matplotlib.pyplot as plt\n",
    "import seaborn as sns\n",
    "from sklearn.preprocessing import LabelEncoder\n",
    "import warnings\n",
    "warnings.filterwarnings('ignore')"
   ]
  },
  {
   "cell_type": "code",
   "execution_count": 3,
   "id": "d487cfcf",
   "metadata": {},
   "outputs": [
    {
     "data": {
      "text/html": [
       "<div>\n",
       "<style scoped>\n",
       "    .dataframe tbody tr th:only-of-type {\n",
       "        vertical-align: middle;\n",
       "    }\n",
       "\n",
       "    .dataframe tbody tr th {\n",
       "        vertical-align: top;\n",
       "    }\n",
       "\n",
       "    .dataframe thead th {\n",
       "        text-align: right;\n",
       "    }\n",
       "</style>\n",
       "<table border=\"1\" class=\"dataframe\">\n",
       "  <thead>\n",
       "    <tr style=\"text-align: right;\">\n",
       "      <th></th>\n",
       "      <th>STATISTIC Label</th>\n",
       "      <th>Year</th>\n",
       "      <th>Age Group</th>\n",
       "      <th>Sex</th>\n",
       "      <th>Inward or Outward Flow</th>\n",
       "      <th>UNIT</th>\n",
       "      <th>VALUE</th>\n",
       "    </tr>\n",
       "  </thead>\n",
       "  <tbody>\n",
       "    <tr>\n",
       "      <th>0</th>\n",
       "      <td>Estimated Migration (Persons in April)</td>\n",
       "      <td>1987</td>\n",
       "      <td>All ages</td>\n",
       "      <td>Both sexes</td>\n",
       "      <td>Net migration</td>\n",
       "      <td>Thousand</td>\n",
       "      <td>-23.0</td>\n",
       "    </tr>\n",
       "    <tr>\n",
       "      <th>1</th>\n",
       "      <td>Estimated Migration (Persons in April)</td>\n",
       "      <td>1987</td>\n",
       "      <td>All ages</td>\n",
       "      <td>Both sexes</td>\n",
       "      <td>Emigrants: All destinations</td>\n",
       "      <td>Thousand</td>\n",
       "      <td>40.2</td>\n",
       "    </tr>\n",
       "    <tr>\n",
       "      <th>2</th>\n",
       "      <td>Estimated Migration (Persons in April)</td>\n",
       "      <td>1987</td>\n",
       "      <td>All ages</td>\n",
       "      <td>Both sexes</td>\n",
       "      <td>Immigrants: All origins</td>\n",
       "      <td>Thousand</td>\n",
       "      <td>17.2</td>\n",
       "    </tr>\n",
       "    <tr>\n",
       "      <th>3</th>\n",
       "      <td>Estimated Migration (Persons in April)</td>\n",
       "      <td>1987</td>\n",
       "      <td>All ages</td>\n",
       "      <td>Male</td>\n",
       "      <td>Net migration</td>\n",
       "      <td>Thousand</td>\n",
       "      <td>NaN</td>\n",
       "    </tr>\n",
       "    <tr>\n",
       "      <th>4</th>\n",
       "      <td>Estimated Migration (Persons in April)</td>\n",
       "      <td>1987</td>\n",
       "      <td>All ages</td>\n",
       "      <td>Male</td>\n",
       "      <td>Emigrants: All destinations</td>\n",
       "      <td>Thousand</td>\n",
       "      <td>NaN</td>\n",
       "    </tr>\n",
       "  </tbody>\n",
       "</table>\n",
       "</div>"
      ],
      "text/plain": [
       "                          STATISTIC Label  Year Age Group         Sex  \\\n",
       "0  Estimated Migration (Persons in April)  1987  All ages  Both sexes   \n",
       "1  Estimated Migration (Persons in April)  1987  All ages  Both sexes   \n",
       "2  Estimated Migration (Persons in April)  1987  All ages  Both sexes   \n",
       "3  Estimated Migration (Persons in April)  1987  All ages        Male   \n",
       "4  Estimated Migration (Persons in April)  1987  All ages        Male   \n",
       "\n",
       "        Inward or Outward Flow      UNIT  VALUE  \n",
       "0                Net migration  Thousand  -23.0  \n",
       "1  Emigrants: All destinations  Thousand   40.2  \n",
       "2      Immigrants: All origins  Thousand   17.2  \n",
       "3                Net migration  Thousand    NaN  \n",
       "4  Emigrants: All destinations  Thousand    NaN  "
      ]
     },
     "execution_count": 3,
     "metadata": {},
     "output_type": "execute_result"
    }
   ],
   "source": [
    "#read the dataset\n",
    "df_Est_Mgt = pd.read_csv('PEA03.20231017T231015.csv')\n",
    "df_Est_Mgt.head()"
   ]
  },
  {
   "cell_type": "code",
   "execution_count": 6,
   "id": "96486cfb",
   "metadata": {},
   "outputs": [
    {
     "data": {
      "text/html": [
       "<div>\n",
       "<style scoped>\n",
       "    .dataframe tbody tr th:only-of-type {\n",
       "        vertical-align: middle;\n",
       "    }\n",
       "\n",
       "    .dataframe tbody tr th {\n",
       "        vertical-align: top;\n",
       "    }\n",
       "\n",
       "    .dataframe thead th {\n",
       "        text-align: right;\n",
       "    }\n",
       "</style>\n",
       "<table border=\"1\" class=\"dataframe\">\n",
       "  <thead>\n",
       "    <tr style=\"text-align: right;\">\n",
       "      <th></th>\n",
       "      <th>Year</th>\n",
       "      <th>VALUE</th>\n",
       "    </tr>\n",
       "  </thead>\n",
       "  <tbody>\n",
       "    <tr>\n",
       "      <th>count</th>\n",
       "      <td>1998.000000</td>\n",
       "      <td>1683.000000</td>\n",
       "    </tr>\n",
       "    <tr>\n",
       "      <th>mean</th>\n",
       "      <td>2005.000000</td>\n",
       "      <td>10.856625</td>\n",
       "    </tr>\n",
       "    <tr>\n",
       "      <th>std</th>\n",
       "      <td>10.679751</td>\n",
       "      <td>17.070445</td>\n",
       "    </tr>\n",
       "    <tr>\n",
       "      <th>min</th>\n",
       "      <td>1987.000000</td>\n",
       "      <td>-43.900000</td>\n",
       "    </tr>\n",
       "    <tr>\n",
       "      <th>25%</th>\n",
       "      <td>1996.000000</td>\n",
       "      <td>1.200000</td>\n",
       "    </tr>\n",
       "    <tr>\n",
       "      <th>50%</th>\n",
       "      <td>2005.000000</td>\n",
       "      <td>4.500000</td>\n",
       "    </tr>\n",
       "    <tr>\n",
       "      <th>75%</th>\n",
       "      <td>2014.000000</td>\n",
       "      <td>14.000000</td>\n",
       "    </tr>\n",
       "    <tr>\n",
       "      <th>max</th>\n",
       "      <td>2023.000000</td>\n",
       "      <td>151.100000</td>\n",
       "    </tr>\n",
       "  </tbody>\n",
       "</table>\n",
       "</div>"
      ],
      "text/plain": [
       "              Year        VALUE\n",
       "count  1998.000000  1683.000000\n",
       "mean   2005.000000    10.856625\n",
       "std      10.679751    17.070445\n",
       "min    1987.000000   -43.900000\n",
       "25%    1996.000000     1.200000\n",
       "50%    2005.000000     4.500000\n",
       "75%    2014.000000    14.000000\n",
       "max    2023.000000   151.100000"
      ]
     },
     "execution_count": 6,
     "metadata": {},
     "output_type": "execute_result"
    }
   ],
   "source": [
    "# Display basic statistics of the numerical column 'VALUE'\n",
    "df_Est_Mgt.describe()"
   ]
  },
  {
   "cell_type": "code",
   "execution_count": 14,
   "id": "9152f5a3",
   "metadata": {},
   "outputs": [
    {
     "data": {
      "text/plain": [
       "2    666\n",
       "0    666\n",
       "1    666\n",
       "Name: Inward or Outward Flow, dtype: int64"
      ]
     },
     "execution_count": 14,
     "metadata": {},
     "output_type": "execute_result"
    }
   ],
   "source": [
    "#Count for Inward or Outward Flow\n",
    "df_Est_Mgt['Inward or Outward Flow'].value_counts()"
   ]
  },
  {
   "cell_type": "code",
   "execution_count": 7,
   "id": "b74bdc50",
   "metadata": {},
   "outputs": [],
   "source": [
    "#Fill the NAN value with Mean\n",
    "df_Est_Mgt['VALUE'].fillna(df_Est_Mgt['VALUE'].mean(), inplace=True)"
   ]
  },
  {
   "cell_type": "code",
   "execution_count": 8,
   "id": "ee4f6950",
   "metadata": {},
   "outputs": [],
   "source": [
    "# Feature Engineering: Creating a new feature 'Net Migration Status'\n",
    "df_Est_Mgt['Net Migration Status'] = np.where(df_Est_Mgt['VALUE'] >= 0, 'Positive', 'Negative')\n"
   ]
  },
  {
   "cell_type": "code",
   "execution_count": 15,
   "id": "faf6d884",
   "metadata": {},
   "outputs": [
    {
     "data": {
      "text/plain": [
       "1    1888\n",
       "0     110\n",
       "Name: Net Migration Status, dtype: int64"
      ]
     },
     "execution_count": 15,
     "metadata": {},
     "output_type": "execute_result"
    }
   ],
   "source": [
    "#Count for Net Migration Status\n",
    "df_Est_Mgt['Net Migration Status'].value_counts()"
   ]
  },
  {
   "cell_type": "code",
   "execution_count": 19,
   "id": "baed7c9a",
   "metadata": {},
   "outputs": [
    {
     "data": {
      "text/plain": [
       "<AxesSubplot:xlabel='Sex', ylabel='count'>"
      ]
     },
     "execution_count": 19,
     "metadata": {},
     "output_type": "execute_result"
    },
    {
     "data": {
      "image/png": "[encoded data removed]",
      "text/plain": [
       "<Figure size 640x480 with 1 Axes>"
      ]
     },
     "metadata": {},
     "output_type": "display_data"
    }
   ],
   "source": [
    "#Count plot for Sex\n",
    "sns.countplot(x='Sex', data=df_Est_Mgt, palette='pastel')\n"
   ]
  },
  {
   "cell_type": "code",
   "execution_count": 23,
   "id": "9499cd25",
   "metadata": {},
   "outputs": [
    {
     "data": {
      "text/plain": [
       "(array([333., 333., 333., 333., 666.]),\n",
       " array([0., 1., 2., 3., 4., 5.]),\n",
       " <BarContainer object of 5 artists>)"
      ]
     },
     "execution_count": 23,
     "metadata": {},
     "output_type": "execute_result"
    },
    {
     "data": {
      "image/png": "[encoded data removed]",
      "text/plain": [
       "<Figure size 640x480 with 1 Axes>"
      ]
     },
     "metadata": {},
     "output_type": "display_data"
    }
   ],
   "source": [
    "#Histplot for Age Group\n",
    "plt.hist(df_Est_Mgt['Age Group'], bins=5, color='salmon', alpha=0.7)\n"
   ]
  },
  {
   "cell_type": "code",
   "execution_count": null,
   "id": "6e292117",
   "metadata": {},
   "outputs": [],
   "source": []
  }
 ],
 "metadata": {
  "kernelspec": {
   "display_name": "Python 3 (ipykernel)",
   "language": "python",
   "name": "python3"
  },
  "language_info": {
   "codemirror_mode": {
    "name": "ipython",
    "version": 3
   },
   "file_extension": ".py",
   "mimetype": "text/x-python",
   "name": "python",
   "nbconvert_exporter": "python",
   "pygments_lexer": "ipython3",
   "version": "3.11.4"
  }
 },
 "nbformat": 4,
 "nbformat_minor": 5
}
